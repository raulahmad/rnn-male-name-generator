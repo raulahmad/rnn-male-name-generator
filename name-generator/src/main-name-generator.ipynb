{
 "cells": [
  {
   "cell_type": "markdown",
   "metadata": {},
   "source": [
    "# Name Generator"
   ]
  },
  {
   "cell_type": "code",
   "execution_count": 34,
   "metadata": {},
   "outputs": [],
   "source": [
    "import os\n",
    "import numpy as np\n",
    "import pandas as pd\n",
    "from matplotlib import pyplot as plt\n",
    "\n",
    "import tensorflow as tf\n",
    "from tensorflow.keras.layers import SimpleRNN, TimeDistributed, Dense, Masking\n",
    "from tensorflow.keras.models import load_model"
   ]
  },
  {
   "cell_type": "code",
   "execution_count": 2,
   "metadata": {},
   "outputs": [],
   "source": [
    "DATA_PATH = '../data'\n",
    "OUTPUT_PATH = '../output'\n",
    "\n",
    "MALE_NAMES_FILEPATH = '../data/male_names.csv'"
   ]
  },
  {
   "cell_type": "markdown",
   "metadata": {},
   "source": [
    "### Auxiliary Elements"
   ]
  },
  {
   "cell_type": "markdown",
   "metadata": {},
   "source": [
    "Create mappings **map_char_to_int** and **map_int_to_char**, which map a character to its integer representation and viceversa. "
   ]
  },
  {
   "cell_type": "code",
   "execution_count": 3,
   "metadata": {},
   "outputs": [],
   "source": [
    "standard_chars = [chr(i) for i in range(97, 123)]\n",
    "special_chars = [' ', 'à', 'á', 'è', 'é', 'í', 'ò', 'ó', 'ú', 'ñ', 'ç', '.',\"'\",]\n",
    "chars = standard_chars + special_chars\n",
    "\n",
    "seq = [i for i in range(1, len(chars) + 1)]  # They start at 1\n",
    "map_char_to_int = dict(zip(chars, seq))\n",
    "map_int_to_char = dict(zip(seq, chars))"
   ]
  },
  {
   "cell_type": "code",
   "execution_count": 4,
   "metadata": {},
   "outputs": [],
   "source": [
    "def one_hot_encoding(encoded_array, features):\n",
    "    n = len(encoded_array)\n",
    "    results = np.zeros((n, features), dtype = 'int8')\n",
    "    for i in range(n):\n",
    "        pos = encoded_array[i]\n",
    "        results[i, pos] = 1\n",
    "    return results"
   ]
  },
  {
   "cell_type": "code",
   "execution_count": 5,
   "metadata": {},
   "outputs": [],
   "source": [
    "def one_hot_decoding(decoded_array):\n",
    "    # Shape: (timesteps, n)\n",
    "    a, b = decoded_array.shape\n",
    "    results = np.zeros(a, dtype = 'int32')\n",
    "    for i in range(a):\n",
    "        pos = np.argmax(decoded_array[i])\n",
    "        results[i] = pos\n",
    "    return results"
   ]
  },
  {
   "cell_type": "code",
   "execution_count": 6,
   "metadata": {},
   "outputs": [],
   "source": [
    "def encode_word_to_int(word, mapping):\n",
    "    n = len(word)\n",
    "    result = np.zeros(n, dtype = 'int32')\n",
    "    for i, c in enumerate(word):\n",
    "        result[i] = mapping[c]\n",
    "    return result"
   ]
  },
  {
   "cell_type": "code",
   "execution_count": 7,
   "metadata": {},
   "outputs": [],
   "source": [
    "def decode_int_to_word(word_int, mapping):\n",
    "    n = len(word_int)\n",
    "    result = ''\n",
    "    for i in word_int:\n",
    "        if i in mapping.keys():\n",
    "            result += mapping[i]\n",
    "        else:\n",
    "            result += 'UNK'\n",
    "    return result"
   ]
  },
  {
   "cell_type": "code",
   "execution_count": 8,
   "metadata": {},
   "outputs": [],
   "source": [
    "def encode_list(array, mapping):\n",
    "    result = []\n",
    "    for word in array:\n",
    "        word_int = encode_word_to_int(word, mapping)\n",
    "        word_encoded = one_hot_encoding(word_int, len(mapping))\n",
    "        result.append(word_encoded)\n",
    "    return result"
   ]
  },
  {
   "cell_type": "code",
   "execution_count": 9,
   "metadata": {},
   "outputs": [],
   "source": [
    "def decode_list(array, mapping):\n",
    "    result = []\n",
    "    for word_encoded in array:\n",
    "        word_int = one_hot_decoding(word_encoded)\n",
    "        word = decode_int_to_word(word_int, mapping)\n",
    "        result.append(word)\n",
    "    return result"
   ]
  },
  {
   "cell_type": "markdown",
   "metadata": {},
   "source": [
    "### Load Data"
   ]
  },
  {
   "cell_type": "markdown",
   "metadata": {},
   "source": [
    "Load names and store them in **male_names_data**"
   ]
  },
  {
   "cell_type": "code",
   "execution_count": 10,
   "metadata": {},
   "outputs": [],
   "source": [
    "male_names_raw = pd.read_csv(MALE_NAMES_FILEPATH, sep = ';', decimal = ',')\n",
    "male_names_data = male_names_raw['Nombre'].tolist()"
   ]
  },
  {
   "cell_type": "markdown",
   "metadata": {},
   "source": [
    "Store the parameters of the model:  \n",
    "`m:` number of samples  \n",
    "`n:` number of features  \n",
    "`timesteps:` length of the input vector. Since names have different lenghts, we will have to pad them."
   ]
  },
  {
   "cell_type": "code",
   "execution_count": 11,
   "metadata": {},
   "outputs": [],
   "source": [
    "m = len(male_names_data)\n",
    "n = len(map_char_to_int) + 1\n",
    "timesteps = len(max(male_names_data, key = len))  # We will add a dot later"
   ]
  },
  {
   "cell_type": "markdown",
   "metadata": {},
   "source": [
    "Tranform everything to **lowercase**."
   ]
  },
  {
   "cell_type": "code",
   "execution_count": 12,
   "metadata": {},
   "outputs": [],
   "source": [
    "male_names_data = [x.lower() for x in male_names_data]"
   ]
  },
  {
   "cell_type": "markdown",
   "metadata": {},
   "source": [
    "Create matrices $X$ and $y$"
   ]
  },
  {
   "cell_type": "code",
   "execution_count": 13,
   "metadata": {},
   "outputs": [],
   "source": [
    "X_male = male_names_data\n",
    "y_male = [name[1:] + '.' for name in X_male]"
   ]
  },
  {
   "cell_type": "markdown",
   "metadata": {},
   "source": [
    "Each letter will be encoded as an integer, which in turn, will be one-hot encoded. For example:  \n",
    "\n",
    "$$ carlos \\rightarrow [2, 0, 17, 11, 14, 18] \\rightarrow [[0, 0, 1, 0, 0, 0, 0, 0, 0, 0, 0, 0, 0, 0, 0, 0, 0, 0, 0, 0, 0, 0, 0, 0, 0, 0, 0, 0, 0, 0, 0, 0, 0, 0, 0, 0, 0, 0, 0], [...], ..., [...]]$$\n",
    "\n"
   ]
  },
  {
   "cell_type": "code",
   "execution_count": 14,
   "metadata": {},
   "outputs": [],
   "source": [
    "X_male_int = []\n",
    "X_male_encoded = []\n",
    "for i in range(m):\n",
    "    word = X_male[i]\n",
    "    mapped_word = list(map(lambda x: map_char_to_int[x], word))  # Word as a list of integers representing letters\n",
    "    X_male_int.append(mapped_word)\n",
    "    \n",
    "    mapped_word = one_hot_encoding(mapped_word, n)  # 2D array with integers one-hot encoded\n",
    "    X_male_encoded.append(mapped_word)"
   ]
  },
  {
   "cell_type": "code",
   "execution_count": 15,
   "metadata": {},
   "outputs": [
    {
     "name": "stdout",
     "output_type": "stream",
     "text": [
      "Name Antonio mapped to integer:\n",
      "[1, 14, 20, 15, 14, 9, 15]\n",
      "\n",
      "Previous integers one-hot encoded:\n",
      "[[0 1 0 0 0 0 0 0 0 0 0 0 0 0 0 0 0 0 0 0 0 0 0 0 0 0 0 0 0 0 0 0 0 0 0 0\n",
      "  0 0 0 0]\n",
      " [0 0 0 0 0 0 0 0 0 0 0 0 0 0 1 0 0 0 0 0 0 0 0 0 0 0 0 0 0 0 0 0 0 0 0 0\n",
      "  0 0 0 0]\n",
      " [0 0 0 0 0 0 0 0 0 0 0 0 0 0 0 0 0 0 0 0 1 0 0 0 0 0 0 0 0 0 0 0 0 0 0 0\n",
      "  0 0 0 0]\n",
      " [0 0 0 0 0 0 0 0 0 0 0 0 0 0 0 1 0 0 0 0 0 0 0 0 0 0 0 0 0 0 0 0 0 0 0 0\n",
      "  0 0 0 0]\n",
      " [0 0 0 0 0 0 0 0 0 0 0 0 0 0 1 0 0 0 0 0 0 0 0 0 0 0 0 0 0 0 0 0 0 0 0 0\n",
      "  0 0 0 0]\n",
      " [0 0 0 0 0 0 0 0 0 1 0 0 0 0 0 0 0 0 0 0 0 0 0 0 0 0 0 0 0 0 0 0 0 0 0 0\n",
      "  0 0 0 0]\n",
      " [0 0 0 0 0 0 0 0 0 0 0 0 0 0 0 1 0 0 0 0 0 0 0 0 0 0 0 0 0 0 0 0 0 0 0 0\n",
      "  0 0 0 0]]\n"
     ]
    }
   ],
   "source": [
    "# Show some examples\n",
    "print(f\"Name Antonio mapped to integer:\\n{X_male_int[0]}\")\n",
    "print(f\"\\nPrevious integers one-hot encoded:\\n{X_male_encoded[0]}\")"
   ]
  },
  {
   "cell_type": "markdown",
   "metadata": {},
   "source": [
    "As for the **labels**, they are the same as the inputs shifted one character forward, and adding a final **EOF** character."
   ]
  },
  {
   "cell_type": "code",
   "execution_count": 16,
   "metadata": {},
   "outputs": [],
   "source": [
    "dot_encoded = one_hot_encoding([map_char_to_int['.']], n)\n",
    "y_male_int = [word_int[1:] + [map_char_to_int['.']] for word_int in X_male_int]\n",
    "y_male_encoded = [np.concatenate((l[1:], dot_encoded), axis = 0)for l in X_male_encoded]"
   ]
  },
  {
   "cell_type": "markdown",
   "metadata": {},
   "source": [
    "Let's add some **padding**"
   ]
  },
  {
   "cell_type": "code",
   "execution_count": 17,
   "metadata": {},
   "outputs": [],
   "source": [
    "padding = np.zeros(n, dtype = 'int')\n",
    "X_male_padded = tf.keras.preprocessing.sequence.pad_sequences(X_male_encoded,\n",
    "                                                            maxlen = timesteps,\n",
    "                                                            padding = 'post',\n",
    "                                                            truncating = 'post', \n",
    "                                                            value = 0)"
   ]
  },
  {
   "cell_type": "code",
   "execution_count": 18,
   "metadata": {},
   "outputs": [],
   "source": [
    "y_male_padded = tf.keras.preprocessing.sequence.pad_sequences(y_male_encoded,\n",
    "                                                       maxlen = timesteps,\n",
    "                                                       padding = 'post',\n",
    "                                                       truncating = 'post', \n",
    "                                                       value = 0)"
   ]
  },
  {
   "cell_type": "code",
   "execution_count": 19,
   "metadata": {},
   "outputs": [],
   "source": [
    "X_male_input = X_male_padded\n",
    "y_male_input = y_male_padded\n",
    "# X_male_input = np.array(X_male, dtype = 'float32')\n",
    "# y_male_input = np.array(y_male, dtype = 'float32')"
   ]
  },
  {
   "cell_type": "markdown",
   "metadata": {},
   "source": [
    "### Model"
   ]
  },
  {
   "cell_type": "code",
   "execution_count": 26,
   "metadata": {},
   "outputs": [],
   "source": [
    "model = tf.keras.Sequential()\n",
    "model.add(Masking(input_shape = (timesteps, n),\n",
    "                  mask_value = 0))\n",
    "model.add(SimpleRNN(units = 100,\n",
    "                   return_sequences = True,\n",
    "                   activation = 'tanh'))\n",
    "model.add(TimeDistributed(Dense(units = 40,\n",
    "                               activation = 'softmax')))"
   ]
  },
  {
   "cell_type": "code",
   "execution_count": 27,
   "metadata": {},
   "outputs": [
    {
     "name": "stdout",
     "output_type": "stream",
     "text": [
      "Model: \"sequential\"\n",
      "_________________________________________________________________\n",
      "Layer (type)                 Output Shape              Param #   \n",
      "=================================================================\n",
      "masking (Masking)            (None, 21, 40)            0         \n",
      "_________________________________________________________________\n",
      "simple_rnn (SimpleRNN)       (None, 21, 100)           14100     \n",
      "_________________________________________________________________\n",
      "time_distributed (TimeDistri (None, 21, 40)            4040      \n",
      "=================================================================\n",
      "Total params: 18,140\n",
      "Trainable params: 18,140\n",
      "Non-trainable params: 0\n",
      "_________________________________________________________________\n"
     ]
    }
   ],
   "source": [
    "model.compile(optimizer = 'Adam', loss = 'categorical_crossentropy', metrics = ['accuracy'])\n",
    "model.summary()"
   ]
  },
  {
   "cell_type": "code",
   "execution_count": 32,
   "metadata": {},
   "outputs": [
    {
     "name": "stdout",
     "output_type": "stream",
     "text": [
      "Train on 5000 samples\n",
      "Epoch 1/20\n",
      "5000/5000 [==============================] - 1s 150us/sample - loss: 0.4337 - accuracy: 0.7205\n",
      "Epoch 2/20\n",
      "5000/5000 [==============================] - 1s 149us/sample - loss: 0.4328 - accuracy: 0.7219\n",
      "Epoch 3/20\n",
      "5000/5000 [==============================] - 1s 148us/sample - loss: 0.4318 - accuracy: 0.7212\n",
      "Epoch 4/20\n",
      "5000/5000 [==============================] - 1s 147us/sample - loss: 0.4303 - accuracy: 0.7227\n",
      "Epoch 5/20\n",
      "5000/5000 [==============================] - 1s 150us/sample - loss: 0.4283 - accuracy: 0.7231\n",
      "Epoch 6/20\n",
      "5000/5000 [==============================] - 1s 150us/sample - loss: 0.4272 - accuracy: 0.7237\n",
      "Epoch 7/20\n",
      "5000/5000 [==============================] - 1s 148us/sample - loss: 0.4262 - accuracy: 0.7250\n",
      "Epoch 8/20\n",
      "5000/5000 [==============================] - 1s 147us/sample - loss: 0.4254 - accuracy: 0.7233\n",
      "Epoch 9/20\n",
      "5000/5000 [==============================] - 1s 147us/sample - loss: 0.4244 - accuracy: 0.7247\n",
      "Epoch 10/20\n",
      "5000/5000 [==============================] - 1s 148us/sample - loss: 0.4236 - accuracy: 0.7237\n",
      "Epoch 11/20\n",
      "5000/5000 [==============================] - 1s 148us/sample - loss: 0.4218 - accuracy: 0.7265\n",
      "Epoch 12/20\n",
      "5000/5000 [==============================] - 1s 150us/sample - loss: 0.4213 - accuracy: 0.7259\n",
      "Epoch 13/20\n",
      "5000/5000 [==============================] - 1s 150us/sample - loss: 0.4204 - accuracy: 0.7253\n",
      "Epoch 14/20\n",
      "5000/5000 [==============================] - 1s 149us/sample - loss: 0.4193 - accuracy: 0.7266\n",
      "Epoch 15/20\n",
      "5000/5000 [==============================] - 1s 151us/sample - loss: 0.4192 - accuracy: 0.7259\n",
      "Epoch 16/20\n",
      "5000/5000 [==============================] - 1s 148us/sample - loss: 0.4179 - accuracy: 0.7278\n",
      "Epoch 17/20\n",
      "5000/5000 [==============================] - 1s 149us/sample - loss: 0.4160 - accuracy: 0.7271\n",
      "Epoch 18/20\n",
      "5000/5000 [==============================] - 1s 154us/sample - loss: 0.4149 - accuracy: 0.7285\n",
      "Epoch 19/20\n",
      "5000/5000 [==============================] - 1s 159us/sample - loss: 0.4145 - accuracy: 0.7286\n",
      "Epoch 20/20\n",
      "5000/5000 [==============================] - 1s 148us/sample - loss: 0.4137 - accuracy: 0.7291\n"
     ]
    }
   ],
   "source": [
    "# history = model.fit(X_male_input, y_male_input, epochs = 20)\n",
    "model = model.load_model(os.path.join(OUTPUT_PATH, 'model.h5'))"
   ]
  },
  {
   "cell_type": "code",
   "execution_count": 33,
   "metadata": {},
   "outputs": [],
   "source": [
    "model.save(os.path.join(OUTPUT_PATH, 'model.h5'))"
   ]
  },
  {
   "cell_type": "code",
   "execution_count": 35,
   "metadata": {},
   "outputs": [
    {
     "name": "stdout",
     "output_type": "stream",
     "text": [
      "5000/5000 [==============================] - 0s 59us/sample - loss: 0.4048 - accuracy: 0.7344\n"
     ]
    },
    {
     "data": {
      "text/plain": [
       "[0.4048293816566467, 0.7343928]"
      ]
     },
     "execution_count": 35,
     "metadata": {},
     "output_type": "execute_result"
    }
   ],
   "source": [
    "model.evaluate(X_male_input, y_male_input)"
   ]
  },
  {
   "cell_type": "markdown",
   "metadata": {},
   "source": [
    "### Performance"
   ]
  },
  {
   "cell_type": "code",
   "execution_count": 37,
   "metadata": {},
   "outputs": [],
   "source": [
    "preds = model.predict(X_male_input)\n",
    "preds_decoded = np.array(decode_list(preds, map_int_to_char))"
   ]
  },
  {
   "cell_type": "code",
   "execution_count": 95,
   "metadata": {},
   "outputs": [
    {
     "data": {
      "text/html": [
       "<div>\n",
       "<style scoped>\n",
       "    .dataframe tbody tr th:only-of-type {\n",
       "        vertical-align: middle;\n",
       "    }\n",
       "\n",
       "    .dataframe tbody tr th {\n",
       "        vertical-align: top;\n",
       "    }\n",
       "\n",
       "    .dataframe thead th {\n",
       "        text-align: right;\n",
       "    }\n",
       "</style>\n",
       "<table border=\"1\" class=\"dataframe\">\n",
       "  <thead>\n",
       "    <tr style=\"text-align: right;\">\n",
       "      <th></th>\n",
       "      <th>Prediction</th>\n",
       "      <th>Original</th>\n",
       "    </tr>\n",
       "  </thead>\n",
       "  <tbody>\n",
       "    <tr>\n",
       "      <th>0</th>\n",
       "      <td>ntonio</td>\n",
       "      <td>ntonio.</td>\n",
       "    </tr>\n",
       "    <tr>\n",
       "      <th>1</th>\n",
       "      <td>ose</td>\n",
       "      <td>ose.</td>\n",
       "    </tr>\n",
       "    <tr>\n",
       "      <th>2</th>\n",
       "      <td>anuel</td>\n",
       "      <td>anuel.</td>\n",
       "    </tr>\n",
       "    <tr>\n",
       "      <th>3</th>\n",
       "      <td>rancisco</td>\n",
       "      <td>rancisco.</td>\n",
       "    </tr>\n",
       "    <tr>\n",
       "      <th>4</th>\n",
       "      <td>anid</td>\n",
       "      <td>avid.</td>\n",
       "    </tr>\n",
       "    <tr>\n",
       "      <th>...</th>\n",
       "      <td>...</td>\n",
       "      <td>...</td>\n",
       "    </tr>\n",
       "    <tr>\n",
       "      <th>4995</th>\n",
       "      <td>rrerico jrrlos.......</td>\n",
       "      <td>ederico carlos.</td>\n",
       "    </tr>\n",
       "    <tr>\n",
       "      <th>4996</th>\n",
       "      <td>rrnando angesto......</td>\n",
       "      <td>ernando augusto.</td>\n",
       "    </tr>\n",
       "    <tr>\n",
       "      <th>4997</th>\n",
       "      <td>urardo jrancisco.....</td>\n",
       "      <td>erardo francisco.</td>\n",
       "    </tr>\n",
       "    <tr>\n",
       "      <th>4998</th>\n",
       "      <td>emsaiaaaaaaaaaaaaaaaa</td>\n",
       "      <td>ossam.</td>\n",
       "    </tr>\n",
       "    <tr>\n",
       "      <th>4999</th>\n",
       "      <td>saael jrancisco......</td>\n",
       "      <td>smael francisco.</td>\n",
       "    </tr>\n",
       "  </tbody>\n",
       "</table>\n",
       "<p>5000 rows × 2 columns</p>\n",
       "</div>"
      ],
      "text/plain": [
       "                 Prediction           Original\n",
       "0     ntonio                           ntonio.\n",
       "1     ose                                 ose.\n",
       "2     anuel                             anuel.\n",
       "3     rancisco                       rancisco.\n",
       "4     anid                               avid.\n",
       "...                     ...                ...\n",
       "4995  rrerico jrrlos.......    ederico carlos.\n",
       "4996  rrnando angesto......   ernando augusto.\n",
       "4997  urardo jrancisco.....  erardo francisco.\n",
       "4998  emsaiaaaaaaaaaaaaaaaa             ossam.\n",
       "4999  saael jrancisco......   smael francisco.\n",
       "\n",
       "[5000 rows x 2 columns]"
      ]
     },
     "execution_count": 95,
     "metadata": {},
     "output_type": "execute_result"
    }
   ],
   "source": [
    "wrong_correct_df = pd.DataFrame(zip(preds_decoded, y_male), columns = [\"Prediction\", \"Original\"])\n",
    "wrong_correct_df"
   ]
  },
  {
   "cell_type": "code",
   "execution_count": 72,
   "metadata": {},
   "outputs": [],
   "source": [
    "mask_correct_w_stop = []\n",
    "mask_correct_wo_stop = []\n",
    "for i in range(m):\n",
    "    for j, c in enumerate(y_male[i]):\n",
    "        mask_correct_w_stop.append(preds_decoded[i][j] == c)\n",
    "        mask_correct_wo_stop.append(preds_decoded[i][j] == c)\n",
    "        if c == '.':\n",
    "            mask_correct_wo_stop[-1] = True"
   ]
  },
  {
   "cell_type": "code",
   "execution_count": 96,
   "metadata": {},
   "outputs": [
    {
     "data": {
      "text/plain": [
       "array(['antonio', 'jose', 'manuel', 'francisco', 'daniel', 'carlos',\n",
       "       'rafael', 'pedro', 'luis', 'oscar', 'vicente', 'santiago',\n",
       "       'guillermo', 'tomas', 'hector', 'isaac', 'benito', 'antoni',\n",
       "       'elias', 'kevin', 'anton', 'vicent', 'xavi', 'yassin',\n",
       "       'francisco angel', 'vicente antonio', 'oscar jose',\n",
       "       'manuel andres', 'dani', 'fran', 'quintin', 'pedro andres',\n",
       "       'nathan', 'dan', 'santi', 'hector jose', 'guillermo antonio',\n",
       "       'carlo', 'rafa', 'benito jose', 'daniel andres', 'kevin andres',\n",
       "       'manu', 'rafael andres', 'jose alexander', 'francis', 'franc',\n",
       "       'luis alexander', 'santiago angel', 'carlos alexander', 'zayd',\n",
       "       'tom', 'willian', 'isaac antonio', 'eli', 'tomas andres',\n",
       "       'elias jesus'], dtype='<U21')"
      ]
     },
     "execution_count": 96,
     "metadata": {},
     "output_type": "execute_result"
    }
   ],
   "source": [
    "# Get words predicted correctly as a whole\n",
    "\n",
    "mask_correct_words = np.array([False] * m)\n",
    "for i in range(m):\n",
    "    pred = preds_decoded[i]\n",
    "    orig = y_male[i][:-1]\n",
    "    mask_correct_words[i] = orig in pred\n",
    "    \n",
    "correct_preds = np.array(X_male)[mask_correct_words]\n",
    "correct_preds"
   ]
  },
  {
   "cell_type": "code",
   "execution_count": 77,
   "metadata": {},
   "outputs": [
    {
     "data": {
      "text/plain": [
       "0.7343928453899611"
      ]
     },
     "execution_count": 77,
     "metadata": {},
     "output_type": "execute_result"
    }
   ],
   "source": [
    "# Accuracy\n",
    "sum(mask_correct_w_stop)/len(mask_correct_w_stop)"
   ]
  }
 ],
 "metadata": {
  "kernelspec": {
   "display_name": "Python 3",
   "language": "python",
   "name": "python3"
  },
  "language_info": {
   "codemirror_mode": {
    "name": "ipython",
    "version": 3
   },
   "file_extension": ".py",
   "mimetype": "text/x-python",
   "name": "python",
   "nbconvert_exporter": "python",
   "pygments_lexer": "ipython3",
   "version": "3.7.7"
  }
 },
 "nbformat": 4,
 "nbformat_minor": 4
}
